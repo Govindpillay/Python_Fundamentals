{
 "cells": [
  {
   "cell_type": "code",
   "execution_count": null,
   "metadata": {},
   "outputs": [],
   "source": [
    "#To comment the line"
   ]
  },
  {
   "cell_type": "code",
   "execution_count": 2,
   "metadata": {},
   "outputs": [
    {
     "data": {
      "text/plain": [
       "30"
      ]
     },
     "execution_count": 2,
     "metadata": {},
     "output_type": "execute_result"
    }
   ],
   "source": [
    "#Understanding the variables in python\n",
    "#Example:\n",
    "\n",
    "x = 10\n",
    "y = 20\n",
    "x + y"
   ]
  },
  {
   "cell_type": "code",
   "execution_count": null,
   "metadata": {},
   "outputs": [],
   "source": [
    "#Variables are something which holds the value assigned to it."
   ]
  },
  {
   "cell_type": "code",
   "execution_count": null,
   "metadata": {},
   "outputs": [],
   "source": [
    "#Rules for declaring the variables in Python --->3 important rules"
   ]
  },
  {
   "cell_type": "code",
   "execution_count": 3,
   "metadata": {},
   "outputs": [
    {
     "ename": "SyntaxError",
     "evalue": "invalid syntax (<ipython-input-3-e8838634c57d>, line 4)",
     "output_type": "error",
     "traceback": [
      "\u001b[1;36m  File \u001b[1;32m\"<ipython-input-3-e8838634c57d>\"\u001b[1;36m, line \u001b[1;32m4\u001b[0m\n\u001b[1;33m    First name = \"Govind\"\u001b[0m\n\u001b[1;37m             ^\u001b[0m\n\u001b[1;31mSyntaxError\u001b[0m\u001b[1;31m:\u001b[0m invalid syntax\n"
     ]
    }
   ],
   "source": [
    "#Rule1---->No name space while declaring the varilable name.\n",
    "#Example1:\n",
    "#wrong approch\n",
    "First name = \"Govind\"\n",
    "print(First name)"
   ]
  },
  {
   "cell_type": "code",
   "execution_count": 5,
   "metadata": {},
   "outputs": [
    {
     "name": "stdout",
     "output_type": "stream",
     "text": [
      "Govind\n"
     ]
    }
   ],
   "source": [
    "#Example2:\n",
    "#Right approch\n",
    "First_name = \"Govind\"\n",
    "print(First_name)"
   ]
  },
  {
   "cell_type": "code",
   "execution_count": 6,
   "metadata": {},
   "outputs": [
    {
     "ename": "SyntaxError",
     "evalue": "invalid syntax (<ipython-input-6-60e5b5f23d06>, line 5)",
     "output_type": "error",
     "traceback": [
      "\u001b[1;36m  File \u001b[1;32m\"<ipython-input-6-60e5b5f23d06>\"\u001b[1;36m, line \u001b[1;32m5\u001b[0m\n\u001b[1;33m    1name = \"Govind\"\u001b[0m\n\u001b[1;37m        ^\u001b[0m\n\u001b[1;31mSyntaxError\u001b[0m\u001b[1;31m:\u001b[0m invalid syntax\n"
     ]
    }
   ],
   "source": [
    "#Rule2---->We should not start a variable name with a number**\n",
    "#Example1:\n",
    "#Wrong approch\n",
    "\n",
    "1name = \"Govind\"\n",
    "print(1name)"
   ]
  },
  {
   "cell_type": "code",
   "execution_count": 7,
   "metadata": {},
   "outputs": [
    {
     "name": "stdout",
     "output_type": "stream",
     "text": [
      "Govind\n"
     ]
    }
   ],
   "source": [
    "#example2:\n",
    "#Right approch\n",
    "\n",
    "name1 = \"Govind\"\n",
    "print(name1)"
   ]
  },
  {
   "cell_type": "code",
   "execution_count": 9,
   "metadata": {},
   "outputs": [
    {
     "ename": "SyntaxError",
     "evalue": "invalid syntax (<ipython-input-9-fa5a0f0ec785>, line 5)",
     "output_type": "error",
     "traceback": [
      "\u001b[1;36m  File \u001b[1;32m\"<ipython-input-9-fa5a0f0ec785>\"\u001b[1;36m, line \u001b[1;32m5\u001b[0m\n\u001b[1;33m    @name = \"Govind\"\u001b[0m\n\u001b[1;37m          ^\u001b[0m\n\u001b[1;31mSyntaxError\u001b[0m\u001b[1;31m:\u001b[0m invalid syntax\n"
     ]
    }
   ],
   "source": [
    "#Rule3--->We should not use any special characters in the variable name.\n",
    "#Example1:\n",
    "#Wrong approch\n",
    "\n",
    "@name = \"Govind\"\n",
    "print(@name)"
   ]
  },
  {
   "cell_type": "code",
   "execution_count": 11,
   "metadata": {},
   "outputs": [
    {
     "name": "stdout",
     "output_type": "stream",
     "text": [
      "Govind\n"
     ]
    }
   ],
   "source": [
    "#Example2:\n",
    "#Right approch\n",
    "\n",
    "name = \"Govind\"\n",
    "print(name)"
   ]
  },
  {
   "cell_type": "code",
   "execution_count": null,
   "metadata": {},
   "outputs": [],
   "source": [
    "#Introduction to data types in Python----> 5 major data types are\n",
    "String\n",
    "integers\n",
    "list\n",
    "tuple\n",
    "dictionary"
   ]
  },
  {
   "cell_type": "code",
   "execution_count": null,
   "metadata": {},
   "outputs": [],
   "source": [
    "#Classification of data types\n",
    "\n",
    "# Data types are classified into two different categories\n",
    "\n",
    "#mutable data type\n",
    "#immutable data type\n",
    "\n",
    "\n",
    "#mutable data type: We can be able to modify or alter the data once it gets assigned.\n",
    "\n",
    "#immutable data type: We cannot be able to modify or alter the data once it gets assigned (It is fixed).\n",
    "\n",
    "#Python is a case senstive language."
   ]
  },
  {
   "cell_type": "code",
   "execution_count": null,
   "metadata": {},
   "outputs": [],
   "source": [
    "#Introduction to String data type-----> Used as Str\n",
    "\n",
    "#Defination: A string is nothing but a series of characters assembled in a quotes.\n",
    "\n",
    "# A string is classified as immutable data type.\n",
    "\n",
    "#How to define a string----> 3 wasy to define it.\n",
    "\n",
    "#Single quotes ' '\n",
    "#Double quotes \" \"\n",
    "#Triple quotes '\"  \"'"
   ]
  },
  {
   "cell_type": "code",
   "execution_count": 12,
   "metadata": {},
   "outputs": [
    {
     "name": "stdout",
     "output_type": "stream",
     "text": [
      "Govind\n"
     ]
    }
   ],
   "source": [
    "#Example1:\n",
    "name = 'Govind'\n",
    "print(name)"
   ]
  },
  {
   "cell_type": "code",
   "execution_count": 13,
   "metadata": {},
   "outputs": [
    {
     "name": "stdout",
     "output_type": "stream",
     "text": [
      "Rohit\n"
     ]
    }
   ],
   "source": [
    "#Example2:\n",
    "name1 = \"Rohit\"\n",
    "print(name1)"
   ]
  },
  {
   "cell_type": "code",
   "execution_count": 14,
   "metadata": {},
   "outputs": [
    {
     "name": "stdout",
     "output_type": "stream",
     "text": [
      "\"Shubham\"\n"
     ]
    }
   ],
   "source": [
    "#Example3:\n",
    "name2 = '\"Shubham\"'\n",
    "print(name2)"
   ]
  },
  {
   "cell_type": "code",
   "execution_count": 15,
   "metadata": {},
   "outputs": [
    {
     "data": {
      "text/plain": [
       "str"
      ]
     },
     "execution_count": 15,
     "metadata": {},
     "output_type": "execute_result"
    }
   ],
   "source": [
    "#Builtin methods of a stings\n",
    "#Example1:\n",
    "\n",
    "type(name)"
   ]
  },
  {
   "cell_type": "code",
   "execution_count": 16,
   "metadata": {},
   "outputs": [
    {
     "data": {
      "text/plain": [
       "str"
      ]
     },
     "execution_count": 16,
     "metadata": {},
     "output_type": "execute_result"
    }
   ],
   "source": [
    "#Example2:\n",
    "\n",
    "type(name1)"
   ]
  },
  {
   "cell_type": "code",
   "execution_count": 17,
   "metadata": {},
   "outputs": [
    {
     "data": {
      "text/plain": [
       "str"
      ]
     },
     "execution_count": 17,
     "metadata": {},
     "output_type": "execute_result"
    }
   ],
   "source": [
    "#Example3:\n",
    "type(name2)"
   ]
  },
  {
   "cell_type": "code",
   "execution_count": 19,
   "metadata": {},
   "outputs": [
    {
     "name": "stdout",
     "output_type": "stream",
     "text": [
      "govind pillay\n"
     ]
    }
   ],
   "source": [
    "Full_name = \"govind pillay\"\n",
    "print(Full_name)"
   ]
  },
  {
   "cell_type": "code",
   "execution_count": 20,
   "metadata": {},
   "outputs": [
    {
     "name": "stdout",
     "output_type": "stream",
     "text": [
      "Govind Pillay\n"
     ]
    }
   ],
   "source": [
    "#Enchanment of the code\n",
    "\n",
    "print(Full_name.title()) #Title case method"
   ]
  },
  {
   "cell_type": "code",
   "execution_count": 21,
   "metadata": {},
   "outputs": [
    {
     "name": "stdout",
     "output_type": "stream",
     "text": [
      "GOVIND PILLAY\n"
     ]
    }
   ],
   "source": [
    "#Request--->To convert all letters in capital(upper case)\n",
    "\n",
    "print(Full_name.upper())"
   ]
  },
  {
   "cell_type": "code",
   "execution_count": 22,
   "metadata": {},
   "outputs": [
    {
     "name": "stdout",
     "output_type": "stream",
     "text": [
      "govind pillay\n"
     ]
    }
   ],
   "source": [
    "#Request--->To conver all letters in small(lower case)\n",
    "\n",
    "print(Full_name.lower())"
   ]
  },
  {
   "cell_type": "code",
   "execution_count": null,
   "metadata": {},
   "outputs": [],
   "source": []
  },
  {
   "cell_type": "code",
   "execution_count": null,
   "metadata": {},
   "outputs": [],
   "source": []
  },
  {
   "cell_type": "code",
   "execution_count": null,
   "metadata": {},
   "outputs": [],
   "source": []
  },
  {
   "cell_type": "code",
   "execution_count": null,
   "metadata": {},
   "outputs": [],
   "source": []
  },
  {
   "cell_type": "code",
   "execution_count": null,
   "metadata": {},
   "outputs": [],
   "source": []
  }
 ],
 "metadata": {
  "kernelspec": {
   "display_name": "Python 3",
   "language": "python",
   "name": "python3"
  },
  "language_info": {
   "codemirror_mode": {
    "name": "ipython",
    "version": 3
   },
   "file_extension": ".py",
   "mimetype": "text/x-python",
   "name": "python",
   "nbconvert_exporter": "python",
   "pygments_lexer": "ipython3",
   "version": "3.7.3"
  }
 },
 "nbformat": 4,
 "nbformat_minor": 2
}
