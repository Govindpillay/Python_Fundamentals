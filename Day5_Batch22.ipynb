{
 "cells": [
  {
   "cell_type": "code",
   "execution_count": null,
   "metadata": {},
   "outputs": [],
   "source": [
    "#Introduction to For loop:"
   ]
  },
  {
   "cell_type": "code",
   "execution_count": 7,
   "metadata": {},
   "outputs": [
    {
     "name": "stdout",
     "output_type": "stream",
     "text": [
      "Axis Bank wishes you a very happy new year, Arsh\n"
     ]
    }
   ],
   "source": [
    "Bank_customers = ['arsh','kiran','ravi','usha','deepak']\n",
    "\n",
    "#Requirment:- Greeting the customers!\n",
    "#Axis Bank wishes you a very happy new year!! :)\n",
    "print(f\"Axis Bank wishes you a very happy new year, {Bank_customers[0].title()}\")"
   ]
  },
  {
   "cell_type": "code",
   "execution_count": null,
   "metadata": {},
   "outputs": [],
   "source": [
    "#To automate the solution.\n"
   ]
  },
  {
   "cell_type": "code",
   "execution_count": 11,
   "metadata": {},
   "outputs": [
    {
     "name": "stdout",
     "output_type": "stream",
     "text": [
      "Axis Bank wishes you a very happy new year, Arsh\n",
      "Axis Bank wishes you a very happy new year, Kiran\n",
      "Axis Bank wishes you a very happy new year, Ravi\n",
      "Axis Bank wishes you a very happy new year, Usha\n",
      "Axis Bank wishes you a very happy new year, Deepak\n"
     ]
    }
   ],
   "source": [
    "for customers in Bank_customers:\n",
    "    print(f\"Axis Bank wishes you a very happy new year, {customers.title()}\")"
   ]
  },
  {
   "cell_type": "code",
   "execution_count": null,
   "metadata": {},
   "outputs": [],
   "source": [
    "#General syntax of for loop"
   ]
  },
  {
   "cell_type": "code",
   "execution_count": null,
   "metadata": {},
   "outputs": [],
   "source": [
    "for tempvar in mainvar:\n",
    "    print(tempvar)\n",
    "    #Indetation is imp"
   ]
  },
  {
   "cell_type": "code",
   "execution_count": 13,
   "metadata": {},
   "outputs": [
    {
     "name": "stdout",
     "output_type": "stream",
     "text": [
      "arsh\n",
      "kiran\n",
      "ravi\n",
      "usha\n",
      "deepak\n"
     ]
    }
   ],
   "source": [
    "for x in Bank_customers:\n",
    "    print(x)"
   ]
  },
  {
   "cell_type": "code",
   "execution_count": 15,
   "metadata": {},
   "outputs": [],
   "source": [
    "My_students = ['rahul','rohan','ravi','govind','vijay']\n",
    "\n",
    "#Requirments:- To appriciate the students"
   ]
  },
  {
   "cell_type": "code",
   "execution_count": 16,
   "metadata": {},
   "outputs": [
    {
     "name": "stdout",
     "output_type": "stream",
     "text": [
      "rahul\n",
      "rohan\n",
      "ravi\n",
      "govind\n",
      "vijay\n"
     ]
    }
   ],
   "source": [
    "for students in My_students:\n",
    "    print(students)"
   ]
  },
  {
   "cell_type": "code",
   "execution_count": 17,
   "metadata": {},
   "outputs": [
    {
     "name": "stdout",
     "output_type": "stream",
     "text": [
      "Keep up the good work, Rahul\n",
      "Keep up the good work, Rohan\n",
      "Keep up the good work, Ravi\n",
      "Keep up the good work, Govind\n",
      "Keep up the good work, Vijay\n"
     ]
    }
   ],
   "source": [
    "for students in My_students:\n",
    "    print(f\"Keep up the good work, {students.title()}\")"
   ]
  },
  {
   "cell_type": "code",
   "execution_count": null,
   "metadata": {},
   "outputs": [],
   "source": [
    "#Add request:- I'm waiting to receive your practice files for today.\n",
    "\n",
    "#Enchanment of the code."
   ]
  },
  {
   "cell_type": "code",
   "execution_count": 18,
   "metadata": {},
   "outputs": [
    {
     "name": "stdout",
     "output_type": "stream",
     "text": [
      "Keep up the good work, Rahul\n",
      "I'm waiting to receive your practice files for today, Rahul\n",
      "Keep up the good work, Rohan\n",
      "I'm waiting to receive your practice files for today, Rohan\n",
      "Keep up the good work, Ravi\n",
      "I'm waiting to receive your practice files for today, Ravi\n",
      "Keep up the good work, Govind\n",
      "I'm waiting to receive your practice files for today, Govind\n",
      "Keep up the good work, Vijay\n",
      "I'm waiting to receive your practice files for today, Vijay\n"
     ]
    }
   ],
   "source": [
    "for y in My_students:\n",
    "    print(f\"Keep up the good work, {y.title()}\")\n",
    "    print(f\"I'm waiting to receive your practice files for today, {y.title()}\")"
   ]
  },
  {
   "cell_type": "code",
   "execution_count": 20,
   "metadata": {},
   "outputs": [
    {
     "name": "stdout",
     "output_type": "stream",
     "text": [
      "Keep up the good work, Rahul\n",
      "I'm waiting to receive your practice files for today, Rahul\n",
      "\n",
      "\n",
      "Keep up the good work, Rohan\n",
      "I'm waiting to receive your practice files for today, Rohan\n",
      "\n",
      "\n",
      "Keep up the good work, Ravi\n",
      "I'm waiting to receive your practice files for today, Ravi\n",
      "\n",
      "\n",
      "Keep up the good work, Govind\n",
      "I'm waiting to receive your practice files for today, Govind\n",
      "\n",
      "\n",
      "Keep up the good work, Vijay\n",
      "I'm waiting to receive your practice files for today, Vijay\n",
      "\n",
      "\n"
     ]
    }
   ],
   "source": [
    "for y in My_students:\n",
    "    print(f\"Keep up the good work, {y.title()}\")\n",
    "    print(f\"I'm waiting to receive your practice files for today, {y.title()}\\n\\n\")"
   ]
  },
  {
   "cell_type": "code",
   "execution_count": 21,
   "metadata": {},
   "outputs": [
    {
     "name": "stdout",
     "output_type": "stream",
     "text": [
      "Keep up the good work, Rahul\n",
      "I'm waiting to receive your practice files for today, Rahul\n",
      "\n",
      "\n",
      "Keep up the good work, Rohan\n",
      "I'm waiting to receive your practice files for today, Rohan\n",
      "\n",
      "\n",
      "Keep up the good work, Ravi\n",
      "I'm waiting to receive your practice files for today, Ravi\n",
      "\n",
      "\n",
      "Keep up the good work, Govind\n",
      "I'm waiting to receive your practice files for today, Govind\n",
      "\n",
      "\n",
      "Keep up the good work, Vijay\n",
      "I'm waiting to receive your practice files for today, Vijay\n",
      "\n",
      "\n",
      "Thank you all for joining the python training!!!!\n"
     ]
    }
   ],
   "source": [
    "for y in My_students:\n",
    "    print(f\"Keep up the good work, {y.title()}\")\n",
    "    print(f\"I'm waiting to receive your practice files for today, {y.title()}\\n\\n\")\n",
    "print(f\"Thank you all for joining the python training!!!!\")"
   ]
  },
  {
   "cell_type": "code",
   "execution_count": null,
   "metadata": {},
   "outputs": [],
   "source": []
  },
  {
   "cell_type": "code",
   "execution_count": null,
   "metadata": {},
   "outputs": [],
   "source": []
  },
  {
   "cell_type": "code",
   "execution_count": null,
   "metadata": {},
   "outputs": [],
   "source": []
  }
 ],
 "metadata": {
  "kernelspec": {
   "display_name": "Python 3",
   "language": "python",
   "name": "python3"
  },
  "language_info": {
   "codemirror_mode": {
    "name": "ipython",
    "version": 3
   },
   "file_extension": ".py",
   "mimetype": "text/x-python",
   "name": "python",
   "nbconvert_exporter": "python",
   "pygments_lexer": "ipython3",
   "version": "3.7.3"
  }
 },
 "nbformat": 4,
 "nbformat_minor": 2
}
