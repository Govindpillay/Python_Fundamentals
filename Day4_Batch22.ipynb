{
 "cells": [
  {
   "cell_type": "code",
   "execution_count": null,
   "metadata": {},
   "outputs": [],
   "source": [
    "#Introduction to list data types.\n",
    "\n",
    "#Defination: A list is a ordered collection of items.\n",
    "\n",
    "#A list is classified as a mutable data type.\n",
    "\n",
    "#A list can be defined by using square brackets []"
   ]
  },
  {
   "cell_type": "code",
   "execution_count": 5,
   "metadata": {},
   "outputs": [
    {
     "data": {
      "text/plain": [
       "list"
      ]
     },
     "execution_count": 5,
     "metadata": {},
     "output_type": "execute_result"
    }
   ],
   "source": [
    "Students = ['Govind','Usha','ashok','Rohit','Amit','Rahul'] #[0,1,2,3,4,5]\n",
    "type(Students)"
   ]
  },
  {
   "cell_type": "code",
   "execution_count": null,
   "metadata": {},
   "outputs": [],
   "source": [
    "#Introduction to indexing----> [0,1,2,3......]\n",
    "\n",
    "#The indexing will be starting from zero.\n",
    "\n",
    "#How to access or retrive the elements from the list.\n",
    "\n",
    "#I want to access Rahul name on the output."
   ]
  },
  {
   "cell_type": "code",
   "execution_count": 6,
   "metadata": {},
   "outputs": [
    {
     "name": "stdout",
     "output_type": "stream",
     "text": [
      "Rahul\n"
     ]
    }
   ],
   "source": [
    "print(Students[5])"
   ]
  },
  {
   "cell_type": "code",
   "execution_count": 7,
   "metadata": {},
   "outputs": [
    {
     "name": "stdout",
     "output_type": "stream",
     "text": [
      "Govind\n"
     ]
    }
   ],
   "source": [
    "print(Students[0])"
   ]
  },
  {
   "cell_type": "code",
   "execution_count": 8,
   "metadata": {},
   "outputs": [
    {
     "name": "stdout",
     "output_type": "stream",
     "text": [
      "Ashok\n"
     ]
    }
   ],
   "source": [
    "print(Students[2].title())"
   ]
  },
  {
   "cell_type": "code",
   "execution_count": 9,
   "metadata": {},
   "outputs": [
    {
     "name": "stdout",
     "output_type": "stream",
     "text": [
      "['Govind', 'Usha', 'ashok', 'Rohit', 'Amit', 'Rahul']\n"
     ]
    }
   ],
   "source": [
    "#Reassignment, adding and removing elements from the list\n",
    "\n",
    "#Reassignment of elements in the list\n",
    "\n",
    "print(Students)"
   ]
  },
  {
   "cell_type": "code",
   "execution_count": 10,
   "metadata": {},
   "outputs": [
    {
     "name": "stdout",
     "output_type": "stream",
     "text": [
      "['Govind', 'Usha', 'Kumar', 'Rohit', 'Amit', 'Rahul']\n"
     ]
    }
   ],
   "source": [
    "#Request--->Want to replace Ashok with Kumar\n",
    "\n",
    "Students[2] = 'Kumar'\n",
    "print(Students)  #Reassignment has been done."
   ]
  },
  {
   "cell_type": "code",
   "execution_count": 15,
   "metadata": {},
   "outputs": [
    {
     "name": "stdout",
     "output_type": "stream",
     "text": [
      "['Govind', 'Usha', 'Kumar', 'Rohit', 'Amit', 'Rahul', 'Sarmathi']\n"
     ]
    }
   ],
   "source": [
    "#Adding new elements to the list.\n",
    "\n",
    "#Add Sarmathi and Naseer\n",
    "\n",
    "Students.append('Sarmathi')\n",
    "print(Students)"
   ]
  },
  {
   "cell_type": "code",
   "execution_count": 16,
   "metadata": {},
   "outputs": [
    {
     "name": "stdout",
     "output_type": "stream",
     "text": [
      "['Govind', 'Usha', 'Kumar', 'Rohit', 'Amit', 'Rahul', 'Sarmathi', 'Naseer']\n"
     ]
    }
   ],
   "source": [
    "Students.append('Naseer')\n",
    "print(Students)"
   ]
  },
  {
   "cell_type": "code",
   "execution_count": 18,
   "metadata": {},
   "outputs": [
    {
     "name": "stdout",
     "output_type": "stream",
     "text": [
      "['Govind', 'Usha', 'Srilakshmi', 'Srilakshmi', 'Sabari', 'Kumar', 'Rohit', 'Amit', 'Rahul', 'Sarmathi', 'Naseer']\n"
     ]
    }
   ],
   "source": [
    "#When we use append, it will be adding the elements to the last index positions of the list.\n",
    "\n",
    "#We can add the element using the index position\n",
    "\n",
    "#Add Srilakshmi----[2] index positioin\n",
    "\n",
    "Students.insert(2, 'Srilakshmi')\n",
    "Students.insert(4, 'Sabari')\n",
    "print(Students)"
   ]
  },
  {
   "cell_type": "code",
   "execution_count": 20,
   "metadata": {},
   "outputs": [
    {
     "name": "stdout",
     "output_type": "stream",
     "text": [
      "['Govind', 'Usha', 'Srilakshmi', 'Srilakshmi', 'Sabari', 'Rohit', 'Amit', 'Rahul', 'Sarmathi', 'Naseer']\n"
     ]
    }
   ],
   "source": [
    "#Removing elements from the list\n",
    "\n",
    "#Want to delete Kumar from the list.\n",
    "\n",
    "del Students[5]  #First scenario----> permament delete\n",
    "print(Students)"
   ]
  },
  {
   "cell_type": "code",
   "execution_count": null,
   "metadata": {},
   "outputs": [],
   "source": [
    "##Second Scenario---> Use of pop() menthod.*** Imp\n",
    "\n",
    "#Will be deleting the items from the last by default.\n",
    "\n",
    "#It will  be storing the deleted item like a carbon copy to a variable assigned to it.\n",
    "\n",
    "#We can also use custom index position from the list using pop"
   ]
  },
  {
   "cell_type": "code",
   "execution_count": 21,
   "metadata": {},
   "outputs": [
    {
     "name": "stdout",
     "output_type": "stream",
     "text": [
      "Naseer\n",
      "['Govind', 'Usha', 'Srilakshmi', 'Srilakshmi', 'Sabari', 'Rohit', 'Amit', 'Rahul', 'Sarmathi']\n"
     ]
    }
   ],
   "source": [
    "X = Students.pop()  #X is the variable acting like a carbon copy\n",
    "\n",
    "print(X)\n",
    "print(Students)"
   ]
  },
  {
   "cell_type": "code",
   "execution_count": 23,
   "metadata": {},
   "outputs": [
    {
     "name": "stdout",
     "output_type": "stream",
     "text": [
      "Sabari\n",
      "['Govind', 'Usha', 'Srilakshmi', 'Srilakshmi', 'Rohit', 'Amit', 'Rahul', 'Sarmathi']\n"
     ]
    }
   ],
   "source": [
    "Y = Students.pop(4)\n",
    "print(Y)\n",
    "print(Students)"
   ]
  },
  {
   "cell_type": "code",
   "execution_count": null,
   "metadata": {},
   "outputs": [],
   "source": []
  },
  {
   "cell_type": "code",
   "execution_count": null,
   "metadata": {},
   "outputs": [],
   "source": []
  },
  {
   "cell_type": "code",
   "execution_count": null,
   "metadata": {},
   "outputs": [],
   "source": []
  },
  {
   "cell_type": "code",
   "execution_count": null,
   "metadata": {},
   "outputs": [],
   "source": []
  },
  {
   "cell_type": "code",
   "execution_count": null,
   "metadata": {},
   "outputs": [],
   "source": []
  },
  {
   "cell_type": "code",
   "execution_count": null,
   "metadata": {},
   "outputs": [],
   "source": []
  },
  {
   "cell_type": "code",
   "execution_count": null,
   "metadata": {},
   "outputs": [],
   "source": []
  },
  {
   "cell_type": "code",
   "execution_count": null,
   "metadata": {},
   "outputs": [],
   "source": []
  },
  {
   "cell_type": "code",
   "execution_count": null,
   "metadata": {},
   "outputs": [],
   "source": []
  },
  {
   "cell_type": "code",
   "execution_count": null,
   "metadata": {},
   "outputs": [],
   "source": []
  },
  {
   "cell_type": "code",
   "execution_count": null,
   "metadata": {},
   "outputs": [],
   "source": []
  },
  {
   "cell_type": "code",
   "execution_count": null,
   "metadata": {},
   "outputs": [],
   "source": []
  },
  {
   "cell_type": "code",
   "execution_count": null,
   "metadata": {},
   "outputs": [],
   "source": []
  },
  {
   "cell_type": "code",
   "execution_count": null,
   "metadata": {},
   "outputs": [],
   "source": []
  },
  {
   "cell_type": "code",
   "execution_count": null,
   "metadata": {},
   "outputs": [],
   "source": []
  },
  {
   "cell_type": "code",
   "execution_count": null,
   "metadata": {},
   "outputs": [],
   "source": []
  },
  {
   "cell_type": "code",
   "execution_count": null,
   "metadata": {},
   "outputs": [],
   "source": []
  },
  {
   "cell_type": "code",
   "execution_count": null,
   "metadata": {},
   "outputs": [],
   "source": []
  },
  {
   "cell_type": "code",
   "execution_count": null,
   "metadata": {},
   "outputs": [],
   "source": []
  },
  {
   "cell_type": "code",
   "execution_count": null,
   "metadata": {},
   "outputs": [],
   "source": []
  },
  {
   "cell_type": "code",
   "execution_count": null,
   "metadata": {},
   "outputs": [],
   "source": []
  },
  {
   "cell_type": "code",
   "execution_count": null,
   "metadata": {},
   "outputs": [],
   "source": []
  },
  {
   "cell_type": "code",
   "execution_count": null,
   "metadata": {},
   "outputs": [],
   "source": []
  },
  {
   "cell_type": "code",
   "execution_count": null,
   "metadata": {},
   "outputs": [],
   "source": []
  },
  {
   "cell_type": "code",
   "execution_count": null,
   "metadata": {},
   "outputs": [],
   "source": []
  },
  {
   "cell_type": "code",
   "execution_count": null,
   "metadata": {},
   "outputs": [],
   "source": []
  },
  {
   "cell_type": "code",
   "execution_count": null,
   "metadata": {},
   "outputs": [],
   "source": []
  },
  {
   "cell_type": "code",
   "execution_count": null,
   "metadata": {},
   "outputs": [],
   "source": []
  }
 ],
 "metadata": {
  "kernelspec": {
   "display_name": "Python 3",
   "language": "python",
   "name": "python3"
  },
  "language_info": {
   "codemirror_mode": {
    "name": "ipython",
    "version": 3
   },
   "file_extension": ".py",
   "mimetype": "text/x-python",
   "name": "python",
   "nbconvert_exporter": "python",
   "pygments_lexer": "ipython3",
   "version": "3.7.3"
  }
 },
 "nbformat": 4,
 "nbformat_minor": 2
}
